{
  "nbformat": 4,
  "nbformat_minor": 0,
  "metadata": {
    "kernelspec": {
      "display_name": "Python 3",
      "language": "python",
      "name": "python3"
    },
    "language_info": {
      "codemirror_mode": {
        "name": "ipython",
        "version": 3
      },
      "file_extension": ".py",
      "mimetype": "text/x-python",
      "name": "python",
      "nbconvert_exporter": "python",
      "pygments_lexer": "ipython3",
      "version": "3.8.3"
    },
    "colab": {
      "name": "MLR_by_Neighborhood_v3.ipynb",
      "provenance": []
    }
  },
  "cells": [
    {
      "cell_type": "code",
      "metadata": {
        "execution": {
          "iopub.execute_input": "2020-11-29T04:56:04.208796Z",
          "iopub.status.busy": "2020-11-29T04:56:04.208796Z",
          "iopub.status.idle": "2020-11-29T04:56:06.677801Z",
          "shell.execute_reply": "2020-11-29T04:56:06.676797Z",
          "shell.execute_reply.started": "2020-11-29T04:56:04.208796Z"
        },
        "id": "2tZ5l0ABhFFN"
      },
      "source": [
        "import pandas as pd\n",
        "import numpy as np\n",
        "from sklearn.linear_model import LinearRegression\n",
        "from sklearn import preprocessing\n",
        "import seaborn as sns\n",
        "import matplotlib.pyplot as plt\n",
        "import plotly.express as px\n",
        "import re"
      ],
      "execution_count": null,
      "outputs": []
    },
    {
      "cell_type": "code",
      "metadata": {
        "execution": {
          "iopub.execute_input": "2020-11-29T04:56:06.679797Z",
          "iopub.status.busy": "2020-11-29T04:56:06.679797Z",
          "iopub.status.idle": "2020-11-29T04:56:06.799797Z",
          "shell.execute_reply": "2020-11-29T04:56:06.798795Z",
          "shell.execute_reply.started": "2020-11-29T04:56:06.679797Z"
        },
        "id": "94jw00L8hFFQ"
      },
      "source": [
        "data = pd.read_csv(\"brian_evan_data.csv\")"
      ],
      "execution_count": null,
      "outputs": []
    },
    {
      "cell_type": "code",
      "metadata": {
        "execution": {
          "iopub.execute_input": "2020-11-29T04:56:06.801797Z",
          "iopub.status.busy": "2020-11-29T04:56:06.801797Z",
          "iopub.status.idle": "2020-11-29T04:56:06.894798Z",
          "shell.execute_reply": "2020-11-29T04:56:06.891797Z",
          "shell.execute_reply.started": "2020-11-29T04:56:06.801797Z"
        },
        "id": "R3dSlIndhFFR"
      },
      "source": [
        "data.shape"
      ],
      "execution_count": null,
      "outputs": []
    },
    {
      "cell_type": "code",
      "metadata": {
        "execution": {
          "iopub.execute_input": "2020-11-29T04:56:06.900800Z",
          "iopub.status.busy": "2020-11-29T04:56:06.899798Z",
          "iopub.status.idle": "2020-11-29T04:56:06.931796Z",
          "shell.execute_reply": "2020-11-29T04:56:06.926796Z",
          "shell.execute_reply.started": "2020-11-29T04:56:06.900800Z"
        },
        "id": "FNzyelzjhFFS"
      },
      "source": [
        "neighborhoods = list(data[\"Neighborhood\"].unique())\n",
        "len(neighborhoods)"
      ],
      "execution_count": null,
      "outputs": []
    },
    {
      "cell_type": "code",
      "metadata": {
        "execution": {
          "iopub.execute_input": "2020-11-29T04:56:06.937800Z",
          "iopub.status.busy": "2020-11-29T04:56:06.935801Z",
          "iopub.status.idle": "2020-11-29T04:56:06.970803Z",
          "shell.execute_reply": "2020-11-29T04:56:06.967797Z",
          "shell.execute_reply.started": "2020-11-29T04:56:06.937800Z"
        },
        "id": "nVNuqbKchFFT"
      },
      "source": [
        "categorical_features = list(data.dtypes[data.dtypes == object].index)\n",
        "print(len(categorical_features))\n",
        "print(categorical_features)"
      ],
      "execution_count": null,
      "outputs": []
    },
    {
      "cell_type": "code",
      "metadata": {
        "execution": {
          "iopub.execute_input": "2020-11-29T04:56:06.977803Z",
          "iopub.status.busy": "2020-11-29T04:56:06.976802Z",
          "iopub.status.idle": "2020-11-29T04:56:06.999797Z",
          "shell.execute_reply": "2020-11-29T04:56:06.997797Z",
          "shell.execute_reply.started": "2020-11-29T04:56:06.977803Z"
        },
        "id": "p1mv1g1yhFFT"
      },
      "source": [
        "numerical_features = list(data.dtypes[data.dtypes != object].index)\n",
        "print(len(numerical_features))\n",
        "print(numerical_features)"
      ],
      "execution_count": null,
      "outputs": []
    },
    {
      "cell_type": "code",
      "metadata": {
        "execution": {
          "iopub.execute_input": "2020-11-29T04:56:07.002796Z",
          "iopub.status.busy": "2020-11-29T04:56:07.001799Z",
          "iopub.status.idle": "2020-11-29T04:56:07.028798Z",
          "shell.execute_reply": "2020-11-29T04:56:07.027800Z",
          "shell.execute_reply.started": "2020-11-29T04:56:07.002796Z"
        },
        "id": "xbihOpj9hFFU"
      },
      "source": [
        "data = data.drop(\"price_per_area\", axis = 1)"
      ],
      "execution_count": null,
      "outputs": []
    },
    {
      "cell_type": "code",
      "metadata": {
        "execution": {
          "iopub.execute_input": "2020-11-29T04:56:07.031798Z",
          "iopub.status.busy": "2020-11-29T04:56:07.031798Z",
          "iopub.status.idle": "2020-11-29T04:56:07.050802Z",
          "shell.execute_reply": "2020-11-29T04:56:07.043803Z",
          "shell.execute_reply.started": "2020-11-29T04:56:07.031798Z"
        },
        "id": "QWFBsR73hFFU"
      },
      "source": [
        "numerical_features = list(data.dtypes[data.dtypes != object].index)\n",
        "print(len(numerical_features))\n",
        "print(numerical_features)"
      ],
      "execution_count": null,
      "outputs": []
    },
    {
      "cell_type": "code",
      "metadata": {
        "execution": {
          "iopub.execute_input": "2020-11-29T04:56:07.066800Z",
          "iopub.status.busy": "2020-11-29T04:56:07.065799Z",
          "iopub.status.idle": "2020-11-29T04:56:07.461795Z",
          "shell.execute_reply": "2020-11-29T04:56:07.460800Z",
          "shell.execute_reply.started": "2020-11-29T04:56:07.066800Z"
        },
        "id": "1LMgnnzKhFFV"
      },
      "source": [
        "# R_data = pd.DataFrame(data = [data[\"SalePrice\"], data[\"1stFlrSF\"], data[\"2ndFlrSF\"], data[\"Fireplaces\"], \n",
        "#                               data[\"TotalBsmtSF\"], data[\"ExterQual\"], data[\"HeatingQC\"],\n",
        "#                               data[\"HalfBath\"], data[\"BsmtQual\"], data[\"YearRemodAdd\"], data[\"GarageArea\"], \n",
        "#                               data[\"GarageFinish\"],data[\"KitchenQual\"], data[\"CentralAir\"], data[\"isu_dist\"],\n",
        "#                               data[\"airport_dist\"] , data[\"downtown_dist\"], data[\"Neighborhood\"]]).T\n",
        "\n",
        "# # took out overall qual, BsmtFinSF1, LotArea, GarageCars for GarageArea, YearBuilt"
      ],
      "execution_count": null,
      "outputs": []
    },
    {
      "cell_type": "code",
      "metadata": {
        "id": "d5qaAFYDhFFW"
      },
      "source": [
        "R_data = pd.DataFrame(data = [data[\"SalePrice\"], data[\"1stFlrSF\"], data[\"2ndFlrSF\"], data[\"Fireplaces\"], \n",
        "                              data[\"TotalBsmtSF\"], data[\"ExterQual\"], data[\"HeatingQC\"],\n",
        "                              data[\"HalfBath\"], data[\"BsmtQual\"], data[\"YearBuilt\"], data[\"GarageArea\"], \n",
        "                              data[\"GarageFinish\"],data[\"KitchenQual\"], data[\"CentralAir\"], data[\"isu_dist\"],\n",
        "                              data[\"airport_dist\"] , data[\"downtown_dist\"], data[\"Neighborhood\"]]).T\n",
        "\n",
        "# took out overall qual, BsmtFinSF1, LotArea, GarageCars for GarageArea, YearBuilt"
      ],
      "execution_count": null,
      "outputs": []
    },
    {
      "cell_type": "code",
      "metadata": {
        "id": "w5F43taxhFFW"
      },
      "source": [
        "R_data.columns"
      ],
      "execution_count": null,
      "outputs": []
    },
    {
      "cell_type": "code",
      "metadata": {
        "execution": {
          "iopub.execute_input": "2020-11-29T04:56:07.464796Z",
          "iopub.status.busy": "2020-11-29T04:56:07.463799Z",
          "iopub.status.idle": "2020-11-29T04:56:07.507798Z",
          "shell.execute_reply": "2020-11-29T04:56:07.506799Z",
          "shell.execute_reply.started": "2020-11-29T04:56:07.464796Z"
        },
        "id": "onxzgU0JhFFX"
      },
      "source": [
        "pd.set_option('display.max_columns', None)\n",
        "R_data.head()"
      ],
      "execution_count": null,
      "outputs": []
    },
    {
      "cell_type": "code",
      "metadata": {
        "execution": {
          "iopub.execute_input": "2020-11-29T04:56:07.510798Z",
          "iopub.status.busy": "2020-11-29T04:56:07.509797Z",
          "iopub.status.idle": "2020-11-29T04:56:07.527798Z",
          "shell.execute_reply": "2020-11-29T04:56:07.523800Z",
          "shell.execute_reply.started": "2020-11-29T04:56:07.510798Z"
        },
        "id": "3EfEZVbRhFFX"
      },
      "source": [
        "categorical_features = list(R_data.dtypes[R_data.dtypes == object].index)\n",
        "print(len(categorical_features))\n",
        "print(categorical_features)"
      ],
      "execution_count": null,
      "outputs": []
    },
    {
      "cell_type": "code",
      "metadata": {
        "execution": {
          "iopub.execute_input": "2020-11-29T04:56:07.531799Z",
          "iopub.status.busy": "2020-11-29T04:56:07.530799Z",
          "iopub.status.idle": "2020-11-29T04:56:07.555802Z",
          "shell.execute_reply": "2020-11-29T04:56:07.553796Z",
          "shell.execute_reply.started": "2020-11-29T04:56:07.530799Z"
        },
        "id": "TauREZaihFFX"
      },
      "source": [
        "numerical_features = list(R_data.dtypes[R_data.dtypes != object].index)\n",
        "print(len(numerical_features))\n",
        "print(numerical_features)"
      ],
      "execution_count": null,
      "outputs": []
    },
    {
      "cell_type": "code",
      "metadata": {
        "execution": {
          "iopub.execute_input": "2020-11-29T04:56:07.557800Z",
          "iopub.status.busy": "2020-11-29T04:56:07.557800Z",
          "iopub.status.idle": "2020-11-29T04:56:07.632800Z",
          "shell.execute_reply": "2020-11-29T04:56:07.630798Z",
          "shell.execute_reply.started": "2020-11-29T04:56:07.557800Z"
        },
        "scrolled": true,
        "id": "Bo5HNpTMhFFY"
      },
      "source": [
        "float_columns = R_data.loc[:, R_data.columns != \"Neighborhood\"]\n",
        "float_columns"
      ],
      "execution_count": null,
      "outputs": []
    },
    {
      "cell_type": "code",
      "metadata": {
        "execution": {
          "iopub.execute_input": "2020-11-29T04:56:07.637798Z",
          "iopub.status.busy": "2020-11-29T04:56:07.635799Z",
          "iopub.status.idle": "2020-11-29T04:56:21.328798Z",
          "shell.execute_reply": "2020-11-29T04:56:21.327815Z",
          "shell.execute_reply.started": "2020-11-29T04:56:07.637798Z"
        },
        "id": "GIT2yQr6hFFZ"
      },
      "source": [
        "# for i in float_columns:\n",
        "#     for j in range(data.shape[0]):\n",
        "#         R_data[i] = float(R_data[i][j])"
      ],
      "execution_count": null,
      "outputs": []
    },
    {
      "cell_type": "code",
      "metadata": {
        "execution": {
          "iopub.execute_input": "2020-11-29T04:56:21.330806Z",
          "iopub.status.busy": "2020-11-29T04:56:21.329805Z",
          "iopub.status.idle": "2020-11-29T04:56:21.346803Z",
          "shell.execute_reply": "2020-11-29T04:56:21.343805Z",
          "shell.execute_reply.started": "2020-11-29T04:56:21.329805Z"
        },
        "id": "jTVCsw2qhFFZ"
      },
      "source": [
        "categorical_features = list(R_data.dtypes[R_data.dtypes == object].index)\n",
        "print(len(categorical_features))\n",
        "print(categorical_features)"
      ],
      "execution_count": null,
      "outputs": []
    },
    {
      "cell_type": "code",
      "metadata": {
        "execution": {
          "iopub.execute_input": "2020-11-29T04:56:21.350806Z",
          "iopub.status.busy": "2020-11-29T04:56:21.349807Z",
          "iopub.status.idle": "2020-11-29T04:56:21.379806Z",
          "shell.execute_reply": "2020-11-29T04:56:21.374802Z",
          "shell.execute_reply.started": "2020-11-29T04:56:21.350806Z"
        },
        "id": "cja2EzbFhFFZ"
      },
      "source": [
        "numerical_features = list(R_data.dtypes[R_data.dtypes != object].index)\n",
        "print(len(numerical_features))\n",
        "print(numerical_features)"
      ],
      "execution_count": null,
      "outputs": []
    },
    {
      "cell_type": "code",
      "metadata": {
        "execution": {
          "iopub.execute_input": "2020-11-29T04:56:21.383804Z",
          "iopub.status.busy": "2020-11-29T04:56:21.382801Z",
          "iopub.status.idle": "2020-11-29T04:56:21.405802Z",
          "shell.execute_reply": "2020-11-29T04:56:21.404799Z",
          "shell.execute_reply.started": "2020-11-29T04:56:21.383804Z"
        },
        "id": "UT9BlO6ehFFa"
      },
      "source": [
        "type(R_data[numerical_features])"
      ],
      "execution_count": null,
      "outputs": []
    },
    {
      "cell_type": "code",
      "metadata": {
        "execution": {
          "iopub.execute_input": "2020-11-29T04:56:21.407802Z",
          "iopub.status.busy": "2020-11-29T04:56:21.406801Z",
          "iopub.status.idle": "2020-11-29T04:56:21.452805Z",
          "shell.execute_reply": "2020-11-29T04:56:21.450801Z",
          "shell.execute_reply.started": "2020-11-29T04:56:21.407802Z"
        },
        "id": "CQJ2yohyhFFa"
      },
      "source": [
        "R_data.info()"
      ],
      "execution_count": null,
      "outputs": []
    },
    {
      "cell_type": "code",
      "metadata": {
        "execution": {
          "iopub.execute_input": "2020-11-29T04:56:21.456804Z",
          "iopub.status.busy": "2020-11-29T04:56:21.455804Z",
          "iopub.status.idle": "2020-11-29T04:56:21.485808Z",
          "shell.execute_reply": "2020-11-29T04:56:21.482804Z",
          "shell.execute_reply.started": "2020-11-29T04:56:21.456804Z"
        },
        "id": "1SpOYu2EhFFb"
      },
      "source": [
        "sum(pd.isnull(R_data).any())"
      ],
      "execution_count": null,
      "outputs": []
    },
    {
      "cell_type": "code",
      "metadata": {
        "execution": {
          "iopub.execute_input": "2020-11-29T04:59:39.910910Z",
          "iopub.status.busy": "2020-11-29T04:59:39.909909Z",
          "iopub.status.idle": "2020-11-29T04:59:39.972908Z",
          "shell.execute_reply": "2020-11-29T04:59:39.971909Z",
          "shell.execute_reply.started": "2020-11-29T04:59:39.910910Z"
        },
        "id": "AmmHS2xWhFFb"
      },
      "source": [
        "MLR_data = R_data.copy()\n",
        "MLR_data['RemodFrom2011'] = 2011 - MLR_data['YearRemodAdd']\n",
        "MLR_data = MLR_data.drop(['YearRemodAdd'], axis = 1)\n",
        "# MLR_data.head(20)"
      ],
      "execution_count": null,
      "outputs": []
    },
    {
      "cell_type": "code",
      "metadata": {
        "id": "xZsmmsJwhFFb"
      },
      "source": [
        "# MLR_data = R_data.copy()\n",
        "# MLR_data['RemodFrom2011'] = 2011 - MLR_data['YearBuilt']\n",
        "# MLR_data = MLR_data.drop(['YearBuilt'], axis = 1)\n",
        "# # MLR_data.head(20)"
      ],
      "execution_count": null,
      "outputs": []
    },
    {
      "cell_type": "code",
      "metadata": {
        "id": "FlrR1KO7hFFc"
      },
      "source": [
        "for i in neighborhoods[:3]:\n",
        "    predictors         = MLR_data[MLR_data[\"Neighborhood\"] == i]\n",
        "    predictors         = predictors.drop([\"Neighborhood\", \"SalePrice\"], axis = 1)\n",
        "    print(predictors.shape)"
      ],
      "execution_count": null,
      "outputs": []
    },
    {
      "cell_type": "code",
      "metadata": {
        "execution": {
          "iopub.execute_input": "2020-11-29T04:56:21.494803Z",
          "iopub.status.busy": "2020-11-29T04:56:21.493803Z",
          "iopub.status.idle": "2020-11-29T04:56:21.789804Z",
          "shell.execute_reply": "2020-11-29T04:56:21.787800Z",
          "shell.execute_reply.started": "2020-11-29T04:56:21.493803Z"
        },
        "id": "Ayz6mr0jhFFc"
      },
      "source": [
        "lm = LinearRegression()\n",
        "\n",
        "model_fit = {}\n",
        "model_coef = {}\n",
        "model_intercept = {}\n",
        "model_score = {}\n",
        "residuals = {}\n",
        "\n",
        "for i in neighborhoods:\n",
        "    predictors         = MLR_data[MLR_data[\"Neighborhood\"] == i].reset_index()\n",
        "    target             = predictors[\"SalePrice\"]\n",
        "    predictors         = predictors.drop([\"Neighborhood\", \"SalePrice\", \"index\"], axis = 1)\n",
        "    model_fit[i]       = lm.fit(predictors, target)\n",
        "    model_coef[i]      = model_fit[i].coef_\n",
        "    model_intercept[i] = model_fit[i].intercept_\n",
        "    model_score[i]     = lm.score(predictors, target)\n",
        "    residuals[i]       = target - pd.Series(lm.predict(predictors))\n",
        "    \n",
        "    "
      ],
      "execution_count": null,
      "outputs": []
    },
    {
      "cell_type": "code",
      "metadata": {
        "id": "su3x5eUJhFFc"
      },
      "source": [
        "residuals['NoRidge'].shape #112 nan in 123 rows\n",
        "MLR_data[MLR_data[\"Neighborhood\"] == 'NoRidge'].shape"
      ],
      "execution_count": null,
      "outputs": []
    },
    {
      "cell_type": "code",
      "metadata": {
        "id": "sZMqSrAlhFFd"
      },
      "source": [
        "MLR_data.groupby('Neighborhood')['SalePrice'].count().sort_values(ascending = False)"
      ],
      "execution_count": null,
      "outputs": []
    },
    {
      "cell_type": "code",
      "metadata": {
        "id": "2u2YJTMwhFFd"
      },
      "source": [
        "# residuals \n",
        "plt_residuals = pd.DataFrame(residuals)\n",
        "px.histogram(plt_residuals, x = plt_residuals.columns, nbins = 80)"
      ],
      "execution_count": null,
      "outputs": []
    },
    {
      "cell_type": "code",
      "metadata": {
        "execution": {
          "iopub.execute_input": "2020-11-29T04:56:21.791802Z",
          "iopub.status.busy": "2020-11-29T04:56:21.790803Z",
          "iopub.status.idle": "2020-11-29T04:56:21.882803Z",
          "shell.execute_reply": "2020-11-29T04:56:21.880803Z",
          "shell.execute_reply.started": "2020-11-29T04:56:21.791802Z"
        },
        "id": "L7eaFTRxhFFe"
      },
      "source": [
        "# R^2\n",
        "model_score\n",
        "['OldTown', 'NWAmes', 'CollgCr', 'NridgHt', 'Somerst', 'Gilbert']"
      ],
      "execution_count": null,
      "outputs": []
    },
    {
      "cell_type": "code",
      "metadata": {
        "execution": {
          "iopub.execute_input": "2020-11-29T04:56:21.885803Z",
          "iopub.status.busy": "2020-11-29T04:56:21.884804Z",
          "iopub.status.idle": "2020-11-29T04:56:21.914805Z",
          "shell.execute_reply": "2020-11-29T04:56:21.911804Z",
          "shell.execute_reply.started": "2020-11-29T04:56:21.885803Z"
        },
        "id": "Yx8iRry2hFFe"
      },
      "source": [
        "intercepts = pd.Series(model_intercept, index = model_intercept.keys()).sort_values(ascending = False)\n",
        "intercepts"
      ],
      "execution_count": null,
      "outputs": []
    },
    {
      "cell_type": "code",
      "metadata": {
        "execution": {
          "iopub.execute_input": "2020-11-29T04:56:21.920829Z",
          "iopub.status.busy": "2020-11-29T04:56:21.918810Z",
          "iopub.status.idle": "2020-11-29T04:56:22.036804Z",
          "shell.execute_reply": "2020-11-29T04:56:22.034805Z",
          "shell.execute_reply.started": "2020-11-29T04:56:21.920829Z"
        },
        "id": "nvCn42tUhFFf"
      },
      "source": [
        "mlr_columns = ['1stFlrSF', '2ndFlrSF', 'Fireplaces', 'TotalBsmtSF',\n",
        "       'ExterQual', 'HeatingQC', 'HalfBath', 'BsmtQual',\n",
        "       'GarageArea', 'GarageFinish', 'KitchenQual', 'CentralAir', 'isu_dist',\n",
        "       'airport_dist', 'downtown_dist', 'YrFrom2011']\n",
        "coefs = pd.DataFrame(model_coef, index = mlr_columns).T\n",
        "coefs.sort_values('YrFrom2011', ascending = True)\n",
        "\n"
      ],
      "execution_count": null,
      "outputs": []
    },
    {
      "cell_type": "code",
      "metadata": {
        "execution": {
          "iopub.execute_input": "2020-11-29T04:51:13.854427Z",
          "iopub.status.busy": "2020-11-29T04:51:13.853430Z",
          "iopub.status.idle": "2020-11-29T04:51:13.876945Z",
          "shell.execute_reply": "2020-11-29T04:51:13.875946Z",
          "shell.execute_reply.started": "2020-11-29T04:51:13.854427Z"
        },
        "id": "Sj68LC0bhFFf"
      },
      "source": [
        "try:  \n",
        "    from sklearn.model_selection import train_test_split\n",
        "except:  \n",
        "    from sklearn.cross_validation import train_test_split\n",
        "    \n",
        "X_train, X_test, y_train, y_test = train_test_split(R_data[numerical_features].loc[:,R_data[numerical_features].columns != \"SalePrice\"], \n",
        "                                                    R_data[\"SalePrice\"], \n",
        "                                                    test_size=0.2, \n",
        "                                                    random_state=0)"
      ],
      "execution_count": null,
      "outputs": []
    },
    {
      "cell_type": "code",
      "metadata": {
        "execution": {
          "iopub.execute_input": "2020-11-29T04:51:13.941947Z",
          "iopub.status.busy": "2020-11-29T04:51:13.940948Z",
          "iopub.status.idle": "2020-11-29T04:51:14.005953Z",
          "shell.execute_reply": "2020-11-29T04:51:14.001949Z",
          "shell.execute_reply.started": "2020-11-29T04:51:13.941947Z"
        },
        "id": "Sby7boJIhFFf"
      },
      "source": [
        "from sklearn.linear_model import LinearRegression \n",
        "\n",
        "ols = LinearRegression()\n",
        "ols.fit(X_train, y_train)\n",
        "print(\"R^2 for train set: %f\" %ols.score(X_train, y_train))\n",
        "\n",
        "print('-'*50)\n",
        "\n",
        "print(\"R^2 for test  set: %f\" %ols.score(X_test, y_test))"
      ],
      "execution_count": null,
      "outputs": []
    },
    {
      "cell_type": "code",
      "metadata": {
        "id": "Yoz1uSNqhFFh"
      },
      "source": [
        "import statsmodels.api as sm \n",
        "X_add_const = sm.add_constant(X_train)\n",
        "ols = sm.OLS(y_train, X_add_const)\n",
        "ans = ols.fit()\n",
        "print(ans.summary())"
      ],
      "execution_count": null,
      "outputs": []
    }
  ]
}